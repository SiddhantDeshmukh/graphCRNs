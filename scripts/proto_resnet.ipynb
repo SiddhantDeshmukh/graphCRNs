{
 "cells": [
  {
   "cell_type": "code",
   "execution_count": null,
   "metadata": {},
   "outputs": [],
   "source": [
    "# Prototype a ResNet\n",
    "import numpy as np\n",
    "from nn_models import simple_dnn\n",
    "import vaex\n",
    "import vaex.ml\n",
    "from abundances import *\n",
    "from typing import Dict, List\n",
    "\n",
    "\n",
    "# Input: abundances, gas density, temperature (10 quantities for chem1)\n",
    "# Output: equilibrium number densities (8 quantities for chem1)\n",
    "\"\"\"\n",
    "TODO\n",
    "  - Write architectures for\n",
    "    - ResNet\n",
    "  - Check normal ML algs\n",
    "    - SVMs\n",
    "    - Decision Trees/Random Forests\n",
    "  - Functions to standardise input\n",
    "\"\"\"\n",
    "\n",
    "\"\"\"\n",
    "Pipeline overview:\n",
    "  - Read in .parquet files\n",
    "  - Generate dataset (extract density, temperature, EQ number densities)\n",
    "  - Determine and calculate abundances based on keys\n",
    "  - Sort input abundance array and output EQ array alphabetically\n",
    "  - Pass into model with goal:\n",
    "    - from density, temperature and abundance, map to output EQ number densities\n",
    "  - Loss function analysis\n",
    "\"\"\"\n",
    "\n",
    "def load_parquet(directory: str, pattern=\"chem1\"):\n",
    "  return vaex.open(f\"{directory}/*{pattern}*.parquet\")\n",
    "\n",
    "\n",
    "def abundance_dict_to_array(abu_dict: Dict, species: List):\n",
    "  # Get abundances from dictionary and return an array indexed as species\n",
    "  abu_arr = np.zeros(shape=len(species))\n",
    "  for i, s in enumerate(species):\n",
    "    abu_arr[i] = abu_dict[s]\n",
    "\n",
    "  return abu_arr\n",
    "\n",
    "def scatter_abu(abu_dict: Dict, scatter_threshold=0.1,\n",
    "                scatter_species=[\"H2\", \"CO\", \"CH\", \"OH\"]):\n",
    "  # Scatter abundances randomly around their initial values by up to\n",
    "  # 'scatter_threshold'\n",
    "  # Changes 'abu_dict'!\n",
    "  for s in abu_dict.keys():\n",
    "    offset = abu_dict[s] * scatter_threshold\n",
    "    low, high = abu_dict[s] - offset, abu_dict[s] + offset\n",
    "    abu_dict[s] = np.random.uniform(low, high)\n",
    "\n",
    "  return abu_dict\n",
    "\n",
    "def create_dataset(df):\n",
    "  # Takes vaex DataFrame and formats it to be a dataset for TF inputs\n",
    "  eq_labels = [l for l in list(df.columns) if l.endswith(\"_EQ\")]\n",
    "  input_labels = [*[l.replace(\"_EQ\", \"\") for l in eq_labels], \"density\", \"temperature\"]\n",
    "  output_labels = eq_labels\n"
   ]
  }
 ],
 "metadata": {
  "kernelspec": {
   "display_name": "base",
   "language": "python",
   "name": "python3"
  },
  "language_info": {
   "name": "python",
   "version": "3.8.5 (default, Sep  4 2020, 07:30:14) \n[GCC 7.3.0]"
  },
  "orig_nbformat": 4,
  "vscode": {
   "interpreter": {
    "hash": "d9236690f3a11807748b7e4a46e6b56e0a64b7fb380b42be31cedaa8c090196a"
   }
  }
 },
 "nbformat": 4,
 "nbformat_minor": 2
}
